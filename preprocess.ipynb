{
 "cells": [
  {
   "cell_type": "code",
   "execution_count": 2,
   "metadata": {},
   "outputs": [],
   "source": [
    "#importing required libraries\n",
    "import pandas as pd\n",
    "import numpy as np\n",
    "import matplotlib.pyplot as plt\n",
    "from sklearn.impute import KNNImputer"
   ]
  },
  {
   "cell_type": "code",
   "execution_count": 3,
   "metadata": {},
   "outputs": [],
   "source": [
    "dataset = pd.read_csv('raw_data2.csv')\n",
    "dataset = pd.DataFrame(dataset)"
   ]
  },
  {
   "cell_type": "code",
   "execution_count": 4,
   "metadata": {},
   "outputs": [],
   "source": [
    "dataset = dataset.drop('ID', axis = 1)\n",
    "#taking males = 0, females = 1\n",
    "dataset['Sex'] = dataset['Sex'].replace('Female', 1)\n",
    "dataset['Sex'] = dataset['Sex'].replace('male', 0)"
   ]
  },
  {
   "cell_type": "code",
   "execution_count": 5,
   "metadata": {},
   "outputs": [],
   "source": [
    "#History of high blood pressure, yes = 1, no = 0\n",
    "dataset['History of high blood pressure'] = dataset['History of high blood pressure'].replace('No', 0)\n",
    "dataset['History of high blood pressure'] = dataset['History of high blood pressure'].replace('Yes', 1)"
   ]
  },
  {
   "cell_type": "code",
   "execution_count": 6,
   "metadata": {},
   "outputs": [],
   "source": [
    "#History of use drugs for high blood pressure, yes = 1, no = 0\n",
    "dataset['History of use drugs for high blood pressure'] = dataset['History of use drugs for high blood pressure'].replace('No', 0)\n",
    "dataset['History of use drugs for high blood pressure'] = dataset['History of use drugs for high blood pressure'].replace('Yes', 1)"
   ]
  },
  {
   "cell_type": "code",
   "execution_count": 7,
   "metadata": {},
   "outputs": [],
   "source": [
    "#history of diabetes, yes = 1, no = 0\n",
    "dataset['history of diabetes'] = dataset['history of diabetes'].replace('No', 0)\n",
    "dataset['history of diabetes'] = dataset['history of diabetes'].replace('Yes', 1)"
   ]
  },
  {
   "cell_type": "code",
   "execution_count": 8,
   "metadata": {},
   "outputs": [],
   "source": [
    "#Family history of diabetes, yes = 1, no = 0\n",
    "dataset['Family history of diabetes'] = dataset['Family history of diabetes'].replace('No', 0)\n",
    "dataset['Family history of diabetes'] = dataset['Family history of diabetes'].replace('Yes', 1)"
   ]
  },
  {
   "cell_type": "code",
   "execution_count": 9,
   "metadata": {},
   "outputs": [],
   "source": [
    "#History of aborted baby, yes = 1, no = 0\n",
    "dataset['History of aborted baby'] = dataset['History of aborted baby'].replace('No', 0)\n",
    "dataset['History of aborted baby'] = dataset['History of aborted baby'].replace('Yes', 1)"
   ]
  },
  {
   "cell_type": "code",
   "execution_count": 10,
   "metadata": {},
   "outputs": [],
   "source": [
    "#History of gestational diabetes, yes = 1, no = 0\n",
    "dataset['History of gestational diabetes'] = dataset['History of gestational diabetes'].replace('No', 0)\n",
    "dataset['History of gestational diabetes'] = dataset['History of gestational diabetes'].replace('Yes', 1)"
   ]
  },
  {
   "cell_type": "code",
   "execution_count": 11,
   "metadata": {},
   "outputs": [],
   "source": [
    "#History of pregnancy, yes = 1, no = 0\n",
    "dataset['History of pregnancy'] = dataset['History of pregnancy'].replace('No', 0)\n",
    "dataset['History of pregnancy'] = dataset['History of pregnancy'].replace('Yes', 1)"
   ]
  },
  {
   "cell_type": "code",
   "execution_count": 12,
   "metadata": {},
   "outputs": [],
   "source": [
    "#result of  high blood pressure screening, Old Patient = 1, negative = 0, New patient = 2\n",
    "dataset['result of  high blood pressure screening'] = dataset['result of  high blood pressure screening'].replace('Negative', 0)\n",
    "dataset['result of  high blood pressure screening'] = dataset['result of  high blood pressure screening'].replace('Old patient', 1)\n",
    "dataset['result of  high blood pressure screening'] = dataset['result of  high blood pressure screening'].replace('New patient', 2)"
   ]
  },
  {
   "cell_type": "code",
   "execution_count": 13,
   "metadata": {},
   "outputs": [],
   "source": [
    "#Result of diabetes screening, Old Patient = 1, negative = 0\n",
    "dataset['Result of diabetes screening'] = dataset['Result of diabetes screening'].replace('Negative', 0)\n",
    "dataset['Result of diabetes screening'] = dataset['Result of diabetes screening'].replace('Old patient', 1)\n",
    "dataset['Result of diabetes screening'] = dataset['Result of diabetes screening'].replace('Positive', 1)\n"
   ]
  },
  {
   "cell_type": "code",
   "execution_count": 14,
   "metadata": {},
   "outputs": [],
   "source": [
    "normalized = dataset"
   ]
  },
  {
   "cell_type": "code",
   "execution_count": 15,
   "metadata": {},
   "outputs": [
    {
     "data": {
      "text/plain": [
       "Sex                                              0.00\n",
       "Age                                              0.39\n",
       "History of high blood pressure                   0.00\n",
       "History of use drugs for high blood pressure     0.00\n",
       "Systolic blood pressure                          0.00\n",
       "Diastolic blood pressure                         0.00\n",
       "Height                                           0.00\n",
       "Weight                                           0.00\n",
       "BMI                                              0.00\n",
       "history of diabetes                              0.00\n",
       "Family history of diabetes                       0.00\n",
       "History of aborted baby                          0.00\n",
       "History of gestational diabetes                  0.00\n",
       "History of pregnancy                             0.00\n",
       "FBS                                             20.00\n",
       "Cholestrol                                      20.47\n",
       "HDL                                             20.59\n",
       "Triglycride                                     20.43\n",
       "result of  high blood pressure screening         0.00\n",
       "Result of diabetes screening                     0.00\n",
       "dtype: float64"
      ]
     },
     "execution_count": 15,
     "metadata": {},
     "output_type": "execute_result"
    }
   ],
   "source": [
    "normalized.isna().mean().round(4) * 100"
   ]
  },
  {
   "cell_type": "code",
   "execution_count": 16,
   "metadata": {},
   "outputs": [],
   "source": [
    "k = 10\n",
    "KNN_imputer = KNNImputer(n_neighbors = k, weights = 'distance')"
   ]
  },
  {
   "cell_type": "code",
   "execution_count": 17,
   "metadata": {},
   "outputs": [],
   "source": [
    "KNN_preprocessed = KNN_imputer.fit_transform(normalized)#filling the missing data\n",
    "KNN_preprocessed = pd.DataFrame(KNN_preprocessed, columns = normalized.columns)\n",
    "KNN_preprocessed = KNN_preprocessed.round(2)"
   ]
  },
  {
   "cell_type": "code",
   "execution_count": 18,
   "metadata": {},
   "outputs": [],
   "source": [
    "KNN_preprocessed.to_excel('preprocessed.xlsx', index = False)"
   ]
  },
  {
   "cell_type": "code",
   "execution_count": 19,
   "metadata": {},
   "outputs": [],
   "source": [
    "KNN_preprocessed.to_csv('preprocessed.csv', index = False)"
   ]
  },
  {
   "cell_type": "code",
   "execution_count": null,
   "metadata": {},
   "outputs": [],
   "source": []
  }
 ],
 "metadata": {
  "kernelspec": {
   "display_name": "Python 3",
   "language": "python",
   "name": "python3"
  },
  "language_info": {
   "codemirror_mode": {
    "name": "ipython",
    "version": 3
   },
   "file_extension": ".py",
   "mimetype": "text/x-python",
   "name": "python",
   "nbconvert_exporter": "python",
   "pygments_lexer": "ipython3",
   "version": "3.11.3"
  },
  "orig_nbformat": 4
 },
 "nbformat": 4,
 "nbformat_minor": 2
}
